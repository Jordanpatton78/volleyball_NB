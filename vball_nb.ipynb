{
  "nbformat": 4,
  "nbformat_minor": 0,
  "metadata": {
    "colab": {
      "provenance": []
    },
    "kernelspec": {
      "name": "python3",
      "display_name": "Python 3"
    },
    "language_info": {
      "name": "python"
    }
  },
  "cells": [
    {
      "cell_type": "code",
      "execution_count": 8,
      "metadata": {
        "id": "6596I5qjIjRh"
      },
      "outputs": [],
      "source": [
        "import pandas as pd\n",
        "import numpy as np\n",
        "from sklearn.model_selection import train_test_split\n",
        "from sklearn.naive_bayes import CategoricalNB\n",
        "from sklearn.naive_bayes import GaussianNB\n",
        "from sklearn.metrics import accuracy_score"
      ]
    },
    {
      "cell_type": "markdown",
      "source": [
        "So the code below should import a csv that has already been converted completely to numerical data. The commented out code was used to format the data properly."
      ],
      "metadata": {
        "id": "DS56UGqcbvad"
      }
    },
    {
      "cell_type": "code",
      "source": [
        "# df = pd.read_csv('numerical_df.csv')\n",
        "df = pd.read_csv('/content/Copy of VolleyballBlockingData - MASTERv3.csv')"
      ],
      "metadata": {
        "id": "I3MqYqN7Jo9h"
      },
      "execution_count": 12,
      "outputs": []
    },
    {
      "cell_type": "markdown",
      "source": [
        "This code will turn all the NaN values to -1, and then go through and bin each column so that I can run the CategoricalNB on it. Note that features with fewer than 5 unique values are dropped so that all the values can be binned. The data is then split into x and y DataFrames, with y being the target column."
      ],
      "metadata": {
        "id": "2kLv3F0vb6zO"
      }
    },
    {
      "cell_type": "code",
      "source": [
        "from sklearn.preprocessing import LabelEncoder\n",
        "from sklearn.preprocessing import KBinsDiscretizer\n",
        "import warnings\n",
        "warnings.filterwarnings(\"ignore\")\n",
        "\n",
        "def convert_to_numerical(df):\n",
        "  label_encoder = LabelEncoder()\n",
        "  for col in df.columns:\n",
        "    df[col] = label_encoder.fit_transform(df[col])\n",
        "  df.fillna(-1, inplace=True)\n",
        "  return df\n",
        "\n",
        "df = convert_to_numerical(df)\n",
        "x = df.drop('Classification_target', axis=1)\n",
        "y = df['Classification_target']\n",
        "\n",
        "\n",
        "\n",
        "def binner(x, y):\n",
        "    for col in x.columns:\n",
        "        if x[col].nunique() < 5:\n",
        "            x.drop(col, axis=1, inplace=True)\n",
        "\n",
        "    def should_bin(column):\n",
        "        return not all(value == 0 for value in column) and len(column.unique()) >= 5\n",
        "\n",
        "    for col in x.columns:\n",
        "        if should_bin(x[col]):\n",
        "            encoder = KBinsDiscretizer(n_bins=4, encode='ordinal', strategy='quantile')\n",
        "            x[col] = encoder.fit_transform(x[col].values.reshape(-1, 1)).flatten()\n",
        "\n",
        "    encoder_y = KBinsDiscretizer(n_bins=4, encode='ordinal', strategy='quantile')\n",
        "    y = encoder_y.fit_transform(y.values.reshape(-1, 1)).flatten()\n",
        "\n",
        "    return x, y\n"
      ],
      "metadata": {
        "id": "nHKPuoZqsVpX"
      },
      "execution_count": 28,
      "outputs": []
    },
    {
      "cell_type": "markdown",
      "source": [
        "Here the model is ran 5 times and all training and test accuracies are reported, as well as the average for each."
      ],
      "metadata": {
        "id": "871TB2esc2Qp"
      }
    },
    {
      "cell_type": "code",
      "source": [
        "x, y = binner(x, y)\n",
        "train_accuracies = []\n",
        "test_accuracies = []\n",
        "for _ in range(5):\n",
        "  x_train, x_test, y_train, y_test = train_test_split(x, y, test_size=.2)\n",
        "  model = CategoricalNB()\n",
        "  model.fit(x_train, y_train)\n",
        "  y_train_pred = model.predict(x_train)\n",
        "  y_test_pred = model.predict(x_test)\n",
        "  train_acc = accuracy_score(y_train, y_train_pred)\n",
        "  test_acc = accuracy_score(y_test, y_test_pred)\n",
        "  train_accuracies.append(train_acc)\n",
        "  test_accuracies.append(test_acc)\n",
        "\n",
        "train_avg = np.mean(train_accuracies)\n",
        "test_avg = np.mean(test_accuracies)\n",
        "train_accuracies.append(train_avg)\n",
        "test_accuracies.append(test_avg)\n",
        "results = pd.DataFrame({\"Training Accuracy\": train_accuracies, \"Test Accuracy\":test_accuracies})\n",
        "results = results.rename({len(results)-1: 'Average'})\n",
        "print(results)"
      ],
      "metadata": {
        "colab": {
          "base_uri": "https://localhost:8080/"
        },
        "id": "OZ3HjGbStDE1",
        "outputId": "5dc46991-6a47-44d9-ca0c-89aaf0e87c1d"
      },
      "execution_count": 29,
      "outputs": [
        {
          "output_type": "stream",
          "name": "stdout",
          "text": [
            "         Training Accuracy  Test Accuracy\n",
            "0                 0.545045       0.410714\n",
            "1                 0.576577       0.321429\n",
            "2                 0.522523       0.446429\n",
            "3                 0.513514       0.410714\n",
            "4                 0.509009       0.321429\n",
            "Average           0.533333       0.382143\n"
          ]
        }
      ]
    }
  ]
}