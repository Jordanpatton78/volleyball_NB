{
  "nbformat": 4,
  "nbformat_minor": 0,
  "metadata": {
    "colab": {
      "provenance": []
    },
    "kernelspec": {
      "name": "python3",
      "display_name": "Python 3"
    },
    "language_info": {
      "name": "python"
    }
  },
  "cells": [
    {
      "cell_type": "code",
      "execution_count": 57,
      "metadata": {
        "id": "6596I5qjIjRh"
      },
      "outputs": [],
      "source": [
        "import pandas as pd\n",
        "import numpy as np\n",
        "from sklearn.model_selection import train_test_split\n",
        "from sklearn.naive_bayes import CategoricalNB\n",
        "from sklearn.metrics import accuracy_score"
      ]
    },
    {
      "cell_type": "code",
      "source": [
        "df = pd.read_csv('numerical_df.csv')"
      ],
      "metadata": {
        "id": "I3MqYqN7Jo9h"
      },
      "execution_count": 58,
      "outputs": []
    },
    {
      "cell_type": "code",
      "source": [
        "# for index, row in df.iterrows():\n",
        "#     if row['Opponent'] == 'Pep':\n",
        "#         df.loc[index, 'Opponent'] = 0\n",
        "#     elif row['Opponent'] == 'Stan':\n",
        "#         df.loc[index, 'Opponent'] = 1\n",
        "#     elif row['Opponent'] == 'UCLA':\n",
        "#         df.loc[index, 'Opponent'] = 2\n",
        "#     elif row['Opponent'] == 'OSU':\n",
        "#         df.loc[index, 'Opponent'] = 3\n",
        "# for index, row in df.iterrows():\n",
        "#     if row['BYU_FL_Position'] == 'OH':\n",
        "#         df.loc[index, 'BYU_FL_Position'] = 0\n",
        "#     elif row['BYU_FL_Position'] == 'MB':\n",
        "#         df.loc[index, 'BYU_FL_Position'] = 1\n",
        "#     elif row['BYU_FL_Position'] == 'S':\n",
        "#         df.loc[index, 'BYU_FL_Position'] = 2\n",
        "#     elif row['BYU_FL_Position'] == 'L':\n",
        "#         df.loc[index, 'BYU_FL_Position'] = 3\n",
        "# for index, row in df.iterrows():\n",
        "#     if row['BYU_BM_Position'] == 'OH':\n",
        "#         df.loc[index, 'BYU_BM_Position'] = 0\n",
        "#     elif row['BYU_BM_Position'] == 'MB':\n",
        "#         df.loc[index, 'BYU_BM_Position'] = 1\n",
        "#     elif row['BYU_BM_Position'] == 'S':\n",
        "#         df.loc[index, 'BYU_BM_Position'] = 2\n",
        "#     elif row['BYU_BM_Position'] == 'L':\n",
        "#         df.loc[index, 'BYU_BM_Position'] = 3\n",
        "# for index, row in df.iterrows():\n",
        "#     if 'Pep' in row['OPP_BL_ID']:\n",
        "#         df.loc[index, 'OPP_BL_ID'] = int(row['OPP_BL_ID'].replace('Pep', '1'))\n",
        "#     elif 'Stan' in row['OPP_BL_ID']:\n",
        "#         df.loc[index, 'OPP_BL_ID'] = int(row['OPP_BL_ID'].replace('Stan', '2'))\n",
        "#     elif 'UCLA' in row['OPP_BL_ID']:\n",
        "#         df.loc[index, 'OPP_BL_ID'] = int(row['OPP_BL_ID'].replace('UCLA', '3'))\n",
        "#     elif 'OSU' in row['OPP_BL_ID']:\n",
        "#         df.loc[index, 'OPP_BL_ID'] = int(row['OPP_BL_ID'].replace('OSU', '4'))\n",
        "#     else:\n",
        "#       pass\n",
        "# for index, row in df.iterrows():\n",
        "#     if row['BYU_BR_Position'] == 'OH':\n",
        "#         df.loc[index, 'BYU_BR_Position'] = 0\n",
        "#     elif row['BYU_BR_Position'] == 'MB':\n",
        "#         df.loc[index, 'BYU_BR_Position'] = 1\n",
        "#     elif row['BYU_BR_Position'] == 'S':\n",
        "#         df.loc[index, 'BYU_BR_Position'] = 2\n",
        "#     elif row['BYU_BR_Position'] == 'L':\n",
        "#         df.loc[index, 'BYU_BR_Position'] = 3\n",
        "#     elif row['BYU_BR_Position'] == 'OPP':\n",
        "#         df.loc[index, 'BYU_BR_Position'] = 4\n",
        "#     elif row['BYU_BR_Position'] == 'DS':\n",
        "#         df.loc[index, 'BYU_BR_Position'] = 5\n",
        "#     elif row['BYU_BR_Position'] == 'L/DS':\n",
        "#         df.loc[index, 'BYU_BR_Position'] = 6\n",
        "\n",
        "# for index, row in df.iterrows():\n",
        "#     if row['Classification_target'] == 'FL':\n",
        "#         df.loc[index, 'Classification_target'] = 0\n",
        "#     elif row['Classification_target'] == 'Service Error':\n",
        "#         df.loc[index, 'Classification_target'] = 1\n",
        "#     elif row['Classification_target'] == 'FM':\n",
        "#         df.loc[index, 'Classification_target'] = 2\n",
        "#     elif row['Classification_target'] == 'FR':\n",
        "#         df.loc[index, 'Classification_target'] = 3\n",
        "#     elif row['Classification_target'] == 'BL':\n",
        "#         df.loc[index, 'Classification_target'] = 4\n",
        "#     elif row['Classification_target'] == 'BM':\n",
        "#         df.loc[index, 'Classification_target'] = 5\n",
        "#     elif row['Classification_target'] == 'BR':\n",
        "#         df.loc[index, 'Classification_target'] = 6\n",
        "#     elif row['Classification_target'] == 'NA':\n",
        "#         df.loc[index, 'Classification_target'] = 7\n",
        "#     elif row['Classification_target'] == 'Ace':\n",
        "#         df.loc[index, 'Classification_target'] = 8\n",
        "#     elif row['Classification_target'] == 'Dump':\n",
        "#         df.loc[index, 'Classification_target'] = 9\n",
        "#     elif row['Classification_target'] == 'Overpass':\n",
        "#         df.loc[index, 'Classification_target'] = 10\n",
        "\n",
        "# df.to_csv('numerical_df.csv', index=False)\n",
        "# print(df['OPP_BR_Position'])\n",
        "# df.head()\n",
        "# print(df['Classification_target'].unique())"
      ],
      "metadata": {
        "id": "Rl6wVx4FVdV9"
      },
      "execution_count": 64,
      "outputs": []
    },
    {
      "cell_type": "code",
      "source": [
        "df.fillna(-1, inplace=True)\n",
        "for col in df.columns:\n",
        "  if (df[col] == 0).all():\n",
        "    df.drop(col, axis=1, inplace=True)\n",
        "  elif df[col].nunique() < 5:\n",
        "    df.drop(col, axis=1, inplace=True)\n",
        "def should_bin(column):\n",
        "    return not all(value == 0 for value in column) and len(column.unique()) >= 5\n",
        "df_binned = df.apply(lambda x: pd.qcut(x, q=[0, 1/5, 2/5, 3/5, 4/5, 1], labels=False, duplicates='drop') if should_bin(x) else x)\n",
        "x = df_binned.drop('Classification_target', axis=1)\n",
        "y = df_binned['Classification_target']"
      ],
      "metadata": {
        "id": "nHKPuoZqsVpX"
      },
      "execution_count": 65,
      "outputs": []
    },
    {
      "cell_type": "code",
      "source": [
        "accuracies = []\n",
        "for _ in range(5):\n",
        "  x_train, x_test, y_train, y_test = train_test_split(x, y, test_size=.2, stratify=y)\n",
        "  model = CategoricalNB()\n",
        "  model.fit(x_train, y_train)\n",
        "  y_pred = model.predict(x_test)\n",
        "  acc = accuracy_score(y_test, y_pred)\n",
        "  accuracies.append(acc)\n",
        "\n",
        "avg = np.mean(accuracies)\n",
        "accuracies.append(avg)\n",
        "results = pd.DataFrame({\"Accuracies\": accuracies})\n",
        "results = results.rename({len(results)-1: 'Average'})\n",
        "print(results)"
      ],
      "metadata": {
        "colab": {
          "base_uri": "https://localhost:8080/"
        },
        "id": "OZ3HjGbStDE1",
        "outputId": "3111497b-521b-48d4-8653-89897b1a1ef6"
      },
      "execution_count": 66,
      "outputs": [
        {
          "output_type": "stream",
          "name": "stdout",
          "text": [
            "         Accuracies\n",
            "0          0.446429\n",
            "1          0.464286\n",
            "2          0.464286\n",
            "3          0.500000\n",
            "4          0.482143\n",
            "Average    0.471429\n"
          ]
        }
      ]
    }
  ]
}
